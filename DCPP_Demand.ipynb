{
 "cells": [
  {
   "cell_type": "markdown",
   "metadata": {},
   "source": [
    "# Discrete Choice Dynamic Programming\n",
    "### by [Jason DeBacker](http://jasondebacker.com), November 2019\n",
    "This Jupyter notebook will introduce you to the theory of discrete choice dynamic programming and solve an example problem using value function iteration."
   ]
  },
  {
   "cell_type": "markdown",
   "metadata": {},
   "source": [
    "## Example: McCall job search model\n",
    "\n",
    "Consider a simple search model of unemployment.  Workers try to maximize their discounted lifetime utility:\n",
    "    \n",
    "   $$ E \\sum_{t=0}^{\\infty}\\beta^{t} u(y_{t}) $$\n",
    "\n",
    "It is assumed that $u'>0$, $u''<0$, and $\\beta < 1$.\n",
    "\n",
    "Employed workers earn a wage $w$ per period (labor supply is exogenous).  Unemployed workers get unemployment insurance of amount $c$ per period.  Thus, $y_{t}=w$ if employed in period $t$ and $y_{t}=c$ if unemployed in period $t$.\n",
    "\n",
    "Workers transition between states of employment and unemployment.  With probability $\\alpha$ an employed worker loses her job.  Unemployed workers reviece an offer each period to work for wage $w'$, which is drawn from the distribution $p$.  For simplicity, we assume no job search is undertaken on the job - employed workers work for the wage they've agreed to until exogenously separated from their job.\n",
    "\n",
    "Unemployed workers have a decision to make.  They can accept the offer to work for $w'$ and begin work next period earning that wage.  Of they can reject the offer, remain unemployed, and recieve a job offer next period.\n",
    "\n",
    "This problem is thus an example of a wider class of problems called *optimal stopping problems*.  The answer to this problem is the answer to the question - at what wage does it make sense for the worker to accept the offer rather than wait for a better one to come by?  Obviously this answer will depend on the risk aversion of the worker (i.e., the curvature of $u(\\cdot)$, how much she discounts the future (given by $\\beta$), and what the distribution of wages look like.\n",
    "\n",
    "Let's write the Bellman equation describing this model.  In doing so, we need to consider that the worker can be in one of two states - employed or unemployed.  Let's let $U$ denote the lifetime value of being in the unemployed state today, $E(w)$ be the lifetime value of accepting and being employed at wage $w$, and $V(w)$ be the lifetime value of having a job offer at wage $w$.  Thus we have:\n",
    "\n",
    "\n",
    "$$ E(w) = u(w) + \\beta\\left[\\alpha U + (1-\\alpha)E(w)\\right] $$\n",
    "\n",
    "and\n",
    "\n",
    "$$ U = u(c) + \\beta \\int_{w'} V(w') \\}dw' $$\n",
    "\n",
    "and\n",
    "\n",
    "$$ V(w) = \\max\\left\\{U(w), E(w)\\right\\} $$\n",
    "\n",
    "\n",
    "Let's solve this on the computer to illustrate how solving a discrete choice DPP works.\n"
   ]
  },
  {
   "cell_type": "code",
   "execution_count": 48,
   "metadata": {},
   "outputs": [],
   "source": [
    "# imports\n",
    "import numpy as np\n",
    "import scipy.stats\n",
    "import matplotlib.pyplot as plt\n",
    "%matplotlib inline\n",
    "\n",
    "# Set parameter values\n",
    "alpha = 0.25 # Probability of spoilage\n",
    "h = 0.1  # Holding cost of inventory\n",
    "K = 100.0  # Fixed Cost of Ordering\n",
    "c = 7.0  # per unit cost of production\n",
    "\n",
    "# discretize grid for w\n",
    "n = 1000  # number of time periods of demand\n",
    "w_vec = np.linspace(10, 200, n)  # Demand between 10 and 20\n",
    "            \n",
    "# probabilities for each value of w -- assume drawn from a beta distribution\n",
    "a, b = 2, 5  # shape parameters of beta\n",
    "pdf = scipy.stats.beta.pdf(w_vec / (1.1 * w_vec.max()), a, b)\n",
    "p_vec = pdf / pdf.sum()"
   ]
  },
  {
   "cell_type": "code",
   "execution_count": 49,
   "metadata": {},
   "outputs": [
    {
     "data": {
      "image/png": "[encoded data removed]",
      "text/plain": [
       "<Figure size 432x288 with 1 Axes>"
      ]
     },
     "metadata": {
      "needs_background": "light"
     },
     "output_type": "display_data"
    }
   ],
   "source": [
    "# Plot distributino of demand\n",
    "plt.plot(w_vec, p_vec)\n",
    "plt.show()"
   ]
  },
  {
   "cell_type": "code",
   "execution_count": 50,
   "metadata": {},
   "outputs": [],
   "source": [
    "# A default production function\n",
    "def u(d):\n",
    "    return K + np.log(d)\n",
    "\n",
    "# A default holding cost function\n",
    "def u1(d1):\n",
    "    return np.log(d1)"
   ]
  },
  {
   "cell_type": "code",
   "execution_count": 52,
   "metadata": {},
   "outputs": [
    {
     "name": "stdout",
     "output_type": "stream",
     "text": [
      "VF iteration  1 ,  distance =  inf\n",
      "VF iteration  2 ,  distance =  nan\n"
     ]
    },
    {
     "name": "stderr",
     "output_type": "stream",
     "text": [
      "C:\\Users\\Devashish\\Anaconda3_1\\lib\\site-packages\\ipykernel_launcher.py:7: RuntimeWarning: divide by zero encountered in log\n",
      "  import sys\n",
      "C:\\Users\\Devashish\\Anaconda3_1\\lib\\site-packages\\ipykernel_launcher.py:7: RuntimeWarning: invalid value encountered in log\n",
      "  import sys\n",
      "C:\\Users\\Devashish\\Anaconda3_1\\lib\\site-packages\\ipykernel_launcher.py:15: RuntimeWarning: invalid value encountered in greater_equal\n",
      "  from ipykernel import kernelapp as app\n"
     ]
    }
   ],
   "source": [
    "# VFI \n",
    "VFtol = 1e-6\n",
    "VFdist = 7.0\n",
    "VFmaxiter = 3000\n",
    "U = np.zeros_like(w_vec)#np.ones_like(w_vec) * (u(c, sigma) / (1 - beta))  # initial guess at value function for unemployed\n",
    "E = np.zeros_like(w_vec)  #u(w_vec, sigma) / (1 - beta) # intial guess at value of being employed at each wage\n",
    "V = np.max((U, E), axis=0)  # initial guess at value function\n",
    "Vstore = np.empty((n, VFmaxiter))  # initialize Vstore array\n",
    "VFiter = 1\n",
    "while VFdist > VFtol and VFiter < VFmaxiter:\n",
    "    EV = (p_vec * V).sum()  # expected VF, integrating over w'\n",
    "    U =  h * u1(EV)\n",
    "    E = u(w_vec) + ((alpha * U) + (1 - alpha) * E)\n",
    "    TV = np.minimum(U, E)\n",
    "    PF = E >= U  # PF is 0/1 (reject or accept offer)\n",
    "    Vstore[:, VFiter] = V\n",
    "    VFdist = (np.absolute(V - TV)).min()  # check distance between value\n",
    "    print('VF iteration ', VFiter, ',  distance = ', VFdist)\n",
    "    V = TV  # update value function\n",
    "    # function for this iteration and value function from past iteration\n",
    "    VFiter += 1"
   ]
  },
  {
   "cell_type": "code",
   "execution_count": 53,
   "metadata": {},
   "outputs": [
    {
     "data": {
      "image/png": "[encoded data removed]",
      "text/plain": [
       "<Figure size 432x288 with 1 Axes>"
      ]
     },
     "metadata": {
      "needs_background": "light"
     },
     "output_type": "display_data"
    }
   ],
   "source": [
    "# plot cost function:\n",
    "plt.plot(w_vec, V)\n",
    "plt.show()"
   ]
  },
  {
   "cell_type": "code",
   "execution_count": 54,
   "metadata": {},
   "outputs": [
    {
     "data": {
      "image/png": "[encoded data removed]",
      "text/plain": [
       "<Figure size 432x288 with 1 Axes>"
      ]
     },
     "metadata": {
      "needs_background": "light"
     },
     "output_type": "display_data"
    }
   ],
   "source": [
    "# plot policy function\n",
    "plt.plot(w_vec, PF)\n",
    "plt.show()"
   ]
  },
  {
   "cell_type": "code",
   "execution_count": 14,
   "metadata": {},
   "outputs": [
    {
     "data": {
      "text/plain": [
       "10.0"
      ]
     },
     "execution_count": 14,
     "metadata": {},
     "output_type": "execute_result"
    }
   ],
   "source": [
    "# see wage that is reservation wage\n",
    "w_vec[PF][0]"
   ]
  },
  {
   "cell_type": "code",
   "execution_count": null,
   "metadata": {},
   "outputs": [],
   "source": []
  }
 ],
 "metadata": {
  "kernelspec": {
   "display_name": "Python 3",
   "language": "python",
   "name": "python3"
  },
  "language_info": {
   "codemirror_mode": {
    "name": "ipython",
    "version": 3
   },
   "file_extension": ".py",
   "mimetype": "text/x-python",
   "name": "python",
   "nbconvert_exporter": "python",
   "pygments_lexer": "ipython3",
   "version": "3.7.3"
  }
 },
 "nbformat": 4,
 "nbformat_minor": 2
}
