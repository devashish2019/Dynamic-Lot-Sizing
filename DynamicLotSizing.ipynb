{
 "cells": [
  {
   "cell_type": "code",
   "execution_count": 59,
   "metadata": {},
   "outputs": [],
   "source": [
    "# Deterministic lot-sizing dynamic programming solution\n",
    "import numpy as np\n",
    "import pandas as pd\n",
    "def wagner_whitin(Fixed_Cost,Production_Cost,Holding_Cost,\n",
    "                  Max_Inventory,Max_Production,d,inv_start):\n",
    "    big = float(\"inf\")\n",
    "    \n",
    "    '''\n",
    "    Fixed_Cost is the fixed cost if production happens in a period\n",
    "    Production_Cost is the per unit cost of production\n",
    "    Holding_Cost is the per unit cost of holding inventory\n",
    "    Max_Inventory is the max inventory that can be held in a period\n",
    "    Max_Production is the max production capacity in a period\n",
    "    d is the vector of deterministic demands\n",
    "    inv_start is the starting inventory\n",
    "    '''\n",
    "\n",
    "    K= Fixed_Cost # fixed cost of production\n",
    "    c= Production_Cost # variable cost of production per unit\n",
    "    h= Holding_Cost # variable cost of holding inventortory per unit\n",
    "\n",
    "    '''\n",
    "    The recursive solution involves looping backwards from the last time period.\n",
    "    Hence, I add an \"insignificant value\" of 0 at the beginning so that the last\n",
    "    demand evaluated in the recursive solution is at index t=1. This is required \n",
    "    because I evaluate the cost function at each level of inventory in each time\n",
    "    period. Hence, the index in the reverse loop also serves as the column number\n",
    "    for the matrix of costs that will be evaluated.\n",
    "    '''\n",
    "    demand = [0] + d\n",
    "\n",
    "    n=len(demand)-1 # number of periods extracted from the demand array\n",
    "    inventory0=inv_start # starting inventory\n",
    "    max_inv=Max_Inventory # maximum inventory that can be held\n",
    "    max_prod=Max_Production # maxmum production that can happen in a period\n",
    "\n",
    "    '''\n",
    "    The value function matrix (F) is a matrix. The matrix rows represent the time\n",
    "    period (= the number of demand periods) and the columns represent the different\n",
    "    values of inventory that can be held in that time period. Every period can have \n",
    "    inventory going from 0 to max_inv, hence the dimensions\n",
    "\n",
    "    The decision matrix (x) is the most important part of the solution, which stores\n",
    "    the production decision in each time period. Since there is no need to store the\n",
    "    decision for the \"fake\" demand at t=0 position in the demand array, this matrix \n",
    "    starts with n+1\n",
    "\n",
    "    '''\n",
    "    F = np.zeros([n + 2, max_inv + 1])\n",
    "    x = np.zeros([n + 1, max_inv + 1], dtype=int)\n",
    "\n",
    "\n",
    "    '''\n",
    "    Looping for evaluating the costs and decision starts from the last time period\n",
    "    '''\n",
    "\n",
    "    for t in range(n,0,-1) :\n",
    "        '''   \n",
    "        In each time period, we then evaluate over all possible inventories (subject\n",
    "        to the maximum inventory that can be held)\n",
    "        '''\n",
    "        \n",
    "\n",
    "        for i in range(max_inv + 1) :\n",
    "            '''\n",
    "            To meet the demand in this period, the min production should be\n",
    "            demand (d) minus the inventory carried into the period (i)\n",
    "        \n",
    "            Similarly, max production in this period depends on the maximum\n",
    "            production and the maximum inventory that can be held after meeting\n",
    "            the demand (d - i).\n",
    "            '''\n",
    "  \n",
    "            minProduction = max(0, demand[t] - i)\n",
    "            maxProduction = min(max_prod, max_inv - i + demand[t])\n",
    "        \n",
    "            Current_cost = big\n",
    "\n",
    "            for p in range(minProduction, maxProduction+1):\n",
    "                '''\n",
    "                p is the production that happens in this time period\n",
    "                \n",
    "                j is the inventory that will be carried to the next period,\n",
    "                which is the inventory left after meeting demand in the current\n",
    "                period (d - i) plus the production p\n",
    "            \n",
    "                Production cost will be c*p\n",
    "                If production happens, there is a fixed cost to production (K).\n",
    "                Therefore, K is added when p>0\n",
    "                '''\n",
    "\n",
    "                j = i + p - demand[t]\n",
    "                ProductionCost = c*p\n",
    "                if p > 0 :\n",
    "                    ProductionCost += K\n",
    "                    '''\n",
    "                    The cost_to_move is essentially is the total cost of of \n",
    "                    producing and holding inventory j from period t to t+1. \n",
    "                    This is evaluated all levels of possible inventory \n",
    "                    (by looping over p)\n",
    "            \n",
    "                    If the cost_to_move is less than the current_costs, then\n",
    "                    we re-evaluate our production policy to produce in the\n",
    "                    current period (t) and hold for the next period t\n",
    "                    '''\n",
    "      \n",
    "                Cost_to_move = h*j + ProductionCost + F[t+1,j]\n",
    "     \n",
    "                if Cost_to_move<Current_cost:\n",
    "                    Current_cost = Cost_to_move\n",
    "                    policy = p\n",
    "            '''\n",
    "            If the Cost_to_moove is indeed less than the current_cost, the value\n",
    "            of F is updated. It basically means, that we produce and hold inventory\n",
    "            in the current period\n",
    "            \n",
    "            The production policy is also updated to make production possible in the \n",
    "            current period\n",
    "            '''\n",
    "            F[t,i] = Current_cost\n",
    "            x[t,i] = policy\n",
    "            \n",
    "    '''\n",
    "    The final cost is stored in the first time period (row) and starting invenrory level\n",
    "    (column)\n",
    "    ---> F[1,inventory0]\n",
    "    \n",
    "    The production quantities is located in x. Again, the time period (row) \n",
    "    and starting inventory level (column) for each time period provides this infomation\n",
    "    --->x[t,inventory0]\n",
    "    '''\n",
    "    \n",
    "    Optimal_Production_Schedule = []\n",
    "    Inventory_Carryover=[]\n",
    "    i = inventory0\n",
    "    for t in range(1,n+1) : \n",
    "        Optimal_Production_Schedule.append(x[t,i])\n",
    "        i = i + x[t,i] - demand[t]\n",
    "        Inventory_Carryover.append(i)\n",
    "    solution_dictionary={'Production_Schedule':Optimal_Production_Schedule,\n",
    "                         'Inventory_Schedule':Inventory_Carryover,\n",
    "                         'Minimum Cost':F[1,inventory0]}\n",
    " \n",
    "    return (solution_dictionary)\n",
    "\n",
    "\n",
    "    "
   ]
  },
  {
   "cell_type": "code",
   "execution_count": 60,
   "metadata": {},
   "outputs": [
    {
     "data": {
      "text/plain": [
       "{'Production_Schedule': [160, 0, 140, 150, 120, 130],\n",
       " 'Inventory_Schedule': [90, 0, 0, 0, 0, 0],\n",
       " 'Minimum Cost': 5490.0}"
      ]
     },
     "execution_count": 60,
     "metadata": {},
     "output_type": "execute_result"
    }
   ],
   "source": [
    "y=wagner_whitin(100,7,1,400,500,[70,90,140,150,120,130],0)\n",
    "y"
   ]
  },
  {
   "cell_type": "code",
   "execution_count": 61,
   "metadata": {},
   "outputs": [],
   "source": [
    "evaluated_cost={'start inv':[],'cost':[]}\n",
    "for si in range(0,400,5):\n",
    "    x=wagner_whitin(100,7,1,400,500,[70,90,140,150,120,130],si)\n",
    "    evaluated_cost['start inv'].append(si)\n",
    "    evaluated_cost['cost'].append(x['Minimum Cost'])"
   ]
  },
  {
   "cell_type": "code",
   "execution_count": 62,
   "metadata": {},
   "outputs": [
    {
     "data": {
      "image/png": "[encoded data removed]",
      "text/plain": [
       "<Figure size 432x288 with 1 Axes>"
      ]
     },
     "metadata": {
      "needs_background": "light"
     },
     "output_type": "display_data"
    }
   ],
   "source": [
    "import matplotlib.pyplot as plt\n",
    "fig, ax = plt.subplots() # make figure and axes separate objects\n",
    "plt.plot(evaluated_cost['start inv'],evaluated_cost['cost'])\n",
    "plt.xlabel('Starting Inv')\n",
    "plt.ylabel('Minimum Cost')\n",
    "plt.show()\n",
    "fig.savefig('Cost vs starting inventory.jpg', \n",
    "            transparent=False, dpi=80, bbox_inches=\"tight\")\n"
   ]
  },
  {
   "cell_type": "code",
   "execution_count": 24,
   "metadata": {},
   "outputs": [
    {
     "data": {
      "image/png": "[encoded data removed]",
      "text/plain": [
       "<Figure size 432x288 with 1 Axes>"
      ]
     },
     "metadata": {
      "needs_background": "light"
     },
     "output_type": "display_data"
    }
   ],
   "source": [
    "# Plot production policy function\n",
    "import matplotlib.pyplot as plt\n",
    "fig, ax = plt.subplots() # make figure and axes separate objects\n",
    "plt.step(range(1,len(y['Production_Schedule'])+2),\n",
    "         y['Production_Schedule']+[0],where='post')\n",
    "plt.xlabel('Time Period')\n",
    "plt.ylabel('Production Amounts')\n",
    "plt.show()\n",
    "fig.savefig('Production Policy.jpg', \n",
    "            transparent=False, dpi=80, bbox_inches=\"tight\")\n"
   ]
  },
  {
   "cell_type": "code",
   "execution_count": 25,
   "metadata": {},
   "outputs": [
    {
     "data": {
      "image/png": "[encoded data removed]",
      "text/plain": [
       "<Figure size 432x288 with 1 Axes>"
      ]
     },
     "metadata": {
      "needs_background": "light"
     },
     "output_type": "display_data"
    }
   ],
   "source": [
    "# Plot inventory policy function\n",
    "import matplotlib.pyplot as plt\n",
    "fig, ax = plt.subplots() # make figure and axes separate objects\n",
    "plt.step(range(1,len(y['Inventory_Schedule'])+2),y['Inventory_Schedule']+[0],where='post')\n",
    "plt.xlabel('Time Period')\n",
    "plt.ylabel('Inventory Amounts')\n",
    "plt.show() \n",
    "fig.savefig('Inventory Policy.jpg', \n",
    "            transparent=False, dpi=80, bbox_inches=\"tight\")\n"
   ]
  },
  {
   "cell_type": "code",
   "execution_count": 26,
   "metadata": {},
   "outputs": [],
   "source": [
    "# Plot the cost as a function of holding costs\n",
    "comparative_stats={'holding cost':[],'cost':[]}\n",
    "for hc in np.linspace(0,1,100):\n",
    "    z=wagner_whitin(100,7,hc,400,500,[70,90,140,150,120,130],0)\n",
    "    comparative_stats['holding cost'].append(hc)\n",
    "    comparative_stats['cost'].append(z['Minimum Cost'])"
   ]
  },
  {
   "cell_type": "code",
   "execution_count": 29,
   "metadata": {},
   "outputs": [
    {
     "data": {
      "image/png": "[encoded data removed]",
      "text/plain": [
       "<Figure size 432x288 with 1 Axes>"
      ]
     },
     "metadata": {
      "needs_background": "light"
     },
     "output_type": "display_data"
    }
   ],
   "source": [
    "fig, ax = plt.subplots() # make figure and axes separate objects\n",
    "plt.plot(comparative_stats['holding cost'],comparative_stats['cost'])\n",
    "plt.xlabel('Per Unit Holding Cost')\n",
    "plt.ylabel('Minimum Cost')\n",
    "plt.show()\n",
    "fig.savefig('Total cost vs per unit holding cost.jpg', \n",
    "            transparent=False, dpi=80, bbox_inches=\"tight\")\n"
   ]
  },
  {
   "cell_type": "code",
   "execution_count": null,
   "metadata": {},
   "outputs": [],
   "source": []
  }
 ],
 "metadata": {
  "kernelspec": {
   "display_name": "Python 3",
   "language": "python",
   "name": "python3"
  },
  "language_info": {
   "codemirror_mode": {
    "name": "ipython",
    "version": 3
   },
   "file_extension": ".py",
   "mimetype": "text/x-python",
   "name": "python",
   "nbconvert_exporter": "python",
   "pygments_lexer": "ipython3",
   "version": "3.7.3"
  }
 },
 "nbformat": 4,
 "nbformat_minor": 2
}
